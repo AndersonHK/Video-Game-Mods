{
 "cells": [
  {
   "cell_type": "code",
   "execution_count": 1,
   "metadata": {},
   "outputs": [],
   "source": [
    "# Import all functions from modding_tools.py\n",
    "from modding_tools import *"
   ]
  },
  {
   "cell_type": "code",
   "execution_count": 2,
   "metadata": {},
   "outputs": [],
   "source": [
    "# Load the data\n",
    "file_path = '############path to your dat file here##########\\ZXRules.dat' #make a backup\n",
    "data_dict = load_dat_file(file_path)"
   ]
  },
  {
   "cell_type": "code",
   "execution_count": 3,
   "metadata": {},
   "outputs": [],
   "source": [
    "# Create table instances\n",
    "table_instances = create_table_classes(data_dict)\n",
    "\n",
    "# Create table shorthands\n",
    "Campaigns = table_instances['Campaigns']\n",
    "Commands = table_instances['Commands']\n",
    "Entities = table_instances['Entities']\n",
    "Global = table_instances['Global']\n",
    "MapConditions = table_instances['MapConditions']\n",
    "MapThemes = table_instances['MapThemes']\n",
    "Mayors = table_instances['Mayors']"
   ]
  },
  {
   "cell_type": "code",
   "execution_count": 4,
   "metadata": {},
   "outputs": [],
   "source": [
    "#Entities.HunterCottage.GoldCost\n",
    "#Entities.HunterCottage.GoldGen\n",
    "#Entities.HunterCottage.WatchRange\n",
    "#Entities.AdvancedFarm.ResourceCollectionCellValue\n",
    "#Entities.CommandCenter.WoodCost\n",
    "#Entities.CommandCenter.EnergyTransferRadius"
   ]
  },
  {
   "cell_type": "code",
   "execution_count": 5,
   "metadata": {},
   "outputs": [],
   "source": [
    "#Entities.Sawmill.DeffensesLife # .HunterCottage.CanBeRepaired\n",
    "#Commands.SoldierRegularAttack.TimeAction\n",
    "#Commands.SoldierRegularAttack.TimeLoad\n",
    "#Commands.SoldierRegularAttack.TimeUnload\n",
    "#Commands.SoldierRegularAttack.TimeUnload"
   ]
  },
  {
   "cell_type": "code",
   "execution_count": 15,
   "metadata": {},
   "outputs": [
    {
     "data": {
      "text/plain": [
       "'REND'"
      ]
     },
     "execution_count": 15,
     "metadata": {},
     "output_type": "execute_result"
    }
   ],
   "source": []
  },
  {
   "cell_type": "code",
   "execution_count": 6,
   "metadata": {},
   "outputs": [
    {
     "data": {
      "text/plain": [
       "34"
      ]
     },
     "execution_count": 6,
     "metadata": {},
     "output_type": "execute_result"
    }
   ],
   "source": [
    "MapThemes.FA.MinDistanceForWeakInfected"
   ]
  },
  {
   "cell_type": "code",
   "execution_count": 7,
   "metadata": {},
   "outputs": [],
   "source": [
    "food = ['Fishing', 'Hunting', 'Farming']\n",
    "Entities.CommandCenter.ResourcesStorage = 100 #allows some buffering\n",
    "Entities.CommandCenter.GoldGen = 400 #necessary for early game\n",
    "Entities.CommandCenter.WoodGen = 5 #ranger upkeep\n",
    "Entities.CommandCenter.StoneGen = 2\n",
    "Entities.CommandCenter.IronGen = 1 #soldier upkeep\n",
    "Global.DefaultGoldOnGameStart.BaseValue = 500 #skipping repetitive early steps 1hut => 3 huts => 1 hunting/fishing... \n",
    "Global.MinRadiusFreeForEnemiesToEnableBuilding.BaseValue = 6 # Increasing minimum distance from 4 => 6, felt awkward"
   ]
  },
  {
   "cell_type": "code",
   "execution_count": 8,
   "metadata": {
    "scrolled": true
   },
   "outputs": [],
   "source": [
    "for entity in Entities:\n",
    "    if entity.WoodCost != None and entity.Behaviour == 'BHSoldier':\n",
    "        entity.WoodGen = efloat(entity.WoodCost,lambda x: x * -0.5)\n",
    "        entity.WoodCost = efloat(entity.WoodCost,lambda x: x * 2)\n",
    "        #print(entity.WoodGen)\n",
    "    if entity.IronCost != None and entity.Behaviour == 'BHSoldier':\n",
    "        entity.IronGen = efloat(entity.IronCost,lambda x: x * -0.5)\n",
    "        entity.IronCost = efloat(entity.IronCost,lambda x: x * 2)\n",
    "    if entity.OilCost != None and entity.Behaviour == 'BHSoldier':\n",
    "        entity.OilGen = efloat(entity.OilCost,lambda x: x * -0.5)\n",
    "        entity.OilCost = efloat(entity.OilCost,lambda x: x * 2)\n",
    "    if entity.GoldGen != None:\n",
    "        if entity.GoldGen < 0:\n",
    "            entity.GoldGen *= 3\n",
    "    if entity.EnergyTransferRadius != None:\n",
    "        #print(entity.ID)\n",
    "        entity.EnergyTransferRadius = efloat(entity.EnergyTransferRadius,lambda x: x * 2)\n",
    "    if entity.WatchRange != None:\n",
    "        entity.WatchRange *= 3\n",
    "    if entity.ResourceCollectionRadius != None:\n",
    "        #print(entity.ResourceCollectionType)\n",
    "        if entity.ResourceCollectionRadius > 1:\n",
    "            entity.ResourceCollectionRadius = efloat(entity.ResourceCollectionRadius,lambda x: x * 2)\n",
    "            #print(entity.ResourceCollectionRadius)\n",
    "        if entity.ResourceCollectionType in food:\n",
    "            entity.ResourceCollectionRadius = efloat(entity.ResourceCollectionRadius,lambda x: x * 1.5)\n",
    "            entity.ResourceCollectionCellValue = efloat(entity.ResourceCollectionCellValue,lambda x: x * 0.5)\n",
    "            #print(entity.ResourceCollectionCellValue)\n",
    "    if entity.CanBeRepaired == 'Y':\n",
    "        entity.Life *= 4\n",
    "        if entity.DeffensesLife != None:\n",
    "            entity.DeffensesLife *= 8\n",
    "            entity.Life *= 2\n",
    "    if entity.GoldCost != None:\n",
    "        entity.GoldCost *= 2\n",
    "    if entity.RangeBonus != None:\n",
    "        entity.RangeBonus *= 3"
   ]
  },
  {
   "cell_type": "code",
   "execution_count": 9,
   "metadata": {},
   "outputs": [],
   "source": [
    "gunpowder = ['ExecutorAttack', 'MachineGunAttack', 'MachineFireAttack', 'SoldierRegularAttack', 'SoldierRegularAttackVeteran', 'SniperAttack', 'SniperAttackVeteran', 'ThanatosExtraAttack', 'TitanAttack']\n",
    "#HAAttack\n",
    "#HBAttack\n",
    "#ThrowGrenade\n",
    "#ZombieVenomAttack"
   ]
  },
  {
   "cell_type": "code",
   "execution_count": 10,
   "metadata": {
    "scrolled": false
   },
   "outputs": [],
   "source": [
    "for command in Commands:\n",
    "    if command.Activity != None:\n",
    "        if command.Activity > 0:\n",
    "            command.Activity *= 2\n",
    "    if command.ActionRange != None and command.Damage != None:\n",
    "        #print(command.ID)\n",
    "        #print(command.ActionRange)\n",
    "        if cfloat(command.ActionRange) > 3.5:\n",
    "            command.ActionRange = efloat(command.ActionRange,lambda x: x * 2)\n",
    "            if command.ID in gunpowder:\n",
    "                command.ActionRange = efloat(command.ActionRange,lambda x: x * 1.5)\n",
    "                command.Activity = efloat(command.Activity,lambda x: x * 1.5)\n",
    "                #print(command.ID)\n",
    "        else:\n",
    "            if command.TimeAction != None:\n",
    "                command.TimeAction = str(int(float(command.TimeAction)/2))\n",
    "            if command.TimeLoad != None:\n",
    "                command.TimeLoad = str(int(float(command.TimeLoad)/2))\n",
    "            if command.TimeUnload != None:\n",
    "                command.TimeUnload = str(int(float(command.TimeUnload)/2))"
   ]
  },
  {
   "cell_type": "code",
   "execution_count": 11,
   "metadata": {
    "scrolled": false
   },
   "outputs": [],
   "source": [
    "# Saving the data\n",
    "save_file_path = '############path to your dat file here##########\\ZXRules.dat' #don't overwrite your backup\n",
    "save_custom_dat_file(save_file_path, data_dict)"
   ]
  },
  {
   "cell_type": "code",
   "execution_count": null,
   "metadata": {},
   "outputs": [],
   "source": []
  }
 ],
 "metadata": {
  "kernelspec": {
   "display_name": "Python 3",
   "language": "python",
   "name": "python3"
  },
  "language_info": {
   "codemirror_mode": {
    "name": "ipython",
    "version": 3
   },
   "file_extension": ".py",
   "mimetype": "text/x-python",
   "name": "python",
   "nbconvert_exporter": "python",
   "pygments_lexer": "ipython3",
   "version": "3.8.5"
  }
 },
 "nbformat": 4,
 "nbformat_minor": 4
}
